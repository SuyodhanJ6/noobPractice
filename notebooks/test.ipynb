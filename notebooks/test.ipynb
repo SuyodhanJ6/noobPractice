{
 "cells": [
  {
   "cell_type": "markdown",
   "id": "60e92e9a",
   "metadata": {},
   "source": [
    "### create_agent()"
   ]
  },
  {
   "cell_type": "code",
   "execution_count": null,
   "id": "5ab4c990",
   "metadata": {},
   "outputs": [],
   "source": []
  },
  {
   "cell_type": "code",
   "execution_count": 1,
   "id": "4216f4ae",
   "metadata": {},
   "outputs": [],
   "source": [
    "from langchain.agents import create_agent\n",
    "from langchain.tools import tool\n",
    "from dotenv import load_dotenv\n",
    "from langchain_openai import ChatOpenAI\n",
    "from langchain_core.messages import HumanMessage, SystemMessage, AIMessage\n",
    "from langchain_core.prompts import PromptTemplate\n",
    "\n",
    "system_prompt = SystemMessage(\n",
    "    content=\"You are a helpful calculator.\"\n",
    ")\n",
    "\n",
    "load_dotenv()\n",
    "llm = ChatOpenAI(model=\"gpt-4o-mini\")\n",
    "@tool\n",
    "def add(a: int, b: int) -> int:\n",
    "    \"Add two numbers\"\n",
    "    return a + b\n",
    "\n",
    "@tool\n",
    "def subtract(a: int, b: int) -> int:\n",
    "    \"Subtract two numbers\"\n",
    "    return a - b\n",
    "\n",
    "@tool\n",
    "def multiply(a: int, b: int) -> int:\n",
    "    \"Multiply two numbers\"\n",
    "    return a * b\n",
    "\n",
    "@tool\n",
    "def divide(a: int, b: int) -> float:\n",
    "    \"Divide two numbers\"\n",
    "    return a / b\n",
    "\n",
    "# add_tool = tool(name=\"add\", func=add, description=\"Add two numbers\")\n",
    "# subtract_tool = tool(name=\"subtract\", func=subtract, description=\"Subtract two numbers\")\n",
    "# multiply_tool = tool(name=\"multiply\", func=multiply, description=\"Multiply two numbers\")\n",
    "# divide_tool = tool(name=\"divide\", func=divide, description=\"Divide two numbers\")\n",
    "\n",
    "agent = create_agent(llm,\n",
    "tools=[add, subtract, multiply, divide],\n",
    "system_prompt=system_prompt.content,\n",
    "debug=True,\n",
    ")\n",
    "\n"
   ]
  },
  {
   "cell_type": "code",
   "execution_count": 2,
   "id": "5e68011c",
   "metadata": {},
   "outputs": [
    {
     "name": "stdout",
     "output_type": "stream",
     "text": [
      "\u001b[1m[values]\u001b[0m {'messages': [HumanMessage(content='What is 10 + 20?', additional_kwargs={}, response_metadata={}, id='942c992b-de0f-48c7-96e6-0c3e2a9f0145')]}\n",
      "\u001b[1m[updates]\u001b[0m {'model': {'messages': [AIMessage(content='', additional_kwargs={'refusal': None}, response_metadata={'token_usage': {'completion_tokens': 17, 'prompt_tokens': 122, 'total_tokens': 139, 'completion_tokens_details': {'accepted_prediction_tokens': 0, 'audio_tokens': 0, 'reasoning_tokens': 0, 'rejected_prediction_tokens': 0}, 'prompt_tokens_details': {'audio_tokens': 0, 'cached_tokens': 0}}, 'model_provider': 'openai', 'model_name': 'gpt-4o-mini-2024-07-18', 'system_fingerprint': 'fp_51db84afab', 'id': 'chatcmpl-CSmzgjpoIIQMlKo4ghIksvN69VjOa', 'service_tier': 'default', 'finish_reason': 'tool_calls', 'logprobs': None}, id='lc_run--b6e6fc04-4a39-4c14-85aa-1bc705702750-0', tool_calls=[{'name': 'add', 'args': {'a': 10, 'b': 20}, 'id': 'call_1Efcg32Jgzb6YgYnW3D22TqF', 'type': 'tool_call'}], usage_metadata={'input_tokens': 122, 'output_tokens': 17, 'total_tokens': 139, 'input_token_details': {'audio': 0, 'cache_read': 0}, 'output_token_details': {'audio': 0, 'reasoning': 0}})]}}\n",
      "\u001b[1m[values]\u001b[0m {'messages': [HumanMessage(content='What is 10 + 20?', additional_kwargs={}, response_metadata={}, id='942c992b-de0f-48c7-96e6-0c3e2a9f0145'), AIMessage(content='', additional_kwargs={'refusal': None}, response_metadata={'token_usage': {'completion_tokens': 17, 'prompt_tokens': 122, 'total_tokens': 139, 'completion_tokens_details': {'accepted_prediction_tokens': 0, 'audio_tokens': 0, 'reasoning_tokens': 0, 'rejected_prediction_tokens': 0}, 'prompt_tokens_details': {'audio_tokens': 0, 'cached_tokens': 0}}, 'model_provider': 'openai', 'model_name': 'gpt-4o-mini-2024-07-18', 'system_fingerprint': 'fp_51db84afab', 'id': 'chatcmpl-CSmzgjpoIIQMlKo4ghIksvN69VjOa', 'service_tier': 'default', 'finish_reason': 'tool_calls', 'logprobs': None}, id='lc_run--b6e6fc04-4a39-4c14-85aa-1bc705702750-0', tool_calls=[{'name': 'add', 'args': {'a': 10, 'b': 20}, 'id': 'call_1Efcg32Jgzb6YgYnW3D22TqF', 'type': 'tool_call'}], usage_metadata={'input_tokens': 122, 'output_tokens': 17, 'total_tokens': 139, 'input_token_details': {'audio': 0, 'cache_read': 0}, 'output_token_details': {'audio': 0, 'reasoning': 0}})]}\n",
      "\u001b[1m[updates]\u001b[0m {'tools': {'messages': [ToolMessage(content='30', name='add', id='5b0d547e-87d7-44f0-9a58-a504c8c514c6', tool_call_id='call_1Efcg32Jgzb6YgYnW3D22TqF')]}}\n",
      "\u001b[1m[values]\u001b[0m {'messages': [HumanMessage(content='What is 10 + 20?', additional_kwargs={}, response_metadata={}, id='942c992b-de0f-48c7-96e6-0c3e2a9f0145'), AIMessage(content='', additional_kwargs={'refusal': None}, response_metadata={'token_usage': {'completion_tokens': 17, 'prompt_tokens': 122, 'total_tokens': 139, 'completion_tokens_details': {'accepted_prediction_tokens': 0, 'audio_tokens': 0, 'reasoning_tokens': 0, 'rejected_prediction_tokens': 0}, 'prompt_tokens_details': {'audio_tokens': 0, 'cached_tokens': 0}}, 'model_provider': 'openai', 'model_name': 'gpt-4o-mini-2024-07-18', 'system_fingerprint': 'fp_51db84afab', 'id': 'chatcmpl-CSmzgjpoIIQMlKo4ghIksvN69VjOa', 'service_tier': 'default', 'finish_reason': 'tool_calls', 'logprobs': None}, id='lc_run--b6e6fc04-4a39-4c14-85aa-1bc705702750-0', tool_calls=[{'name': 'add', 'args': {'a': 10, 'b': 20}, 'id': 'call_1Efcg32Jgzb6YgYnW3D22TqF', 'type': 'tool_call'}], usage_metadata={'input_tokens': 122, 'output_tokens': 17, 'total_tokens': 139, 'input_token_details': {'audio': 0, 'cache_read': 0}, 'output_token_details': {'audio': 0, 'reasoning': 0}}), ToolMessage(content='30', name='add', id='5b0d547e-87d7-44f0-9a58-a504c8c514c6', tool_call_id='call_1Efcg32Jgzb6YgYnW3D22TqF')]}\n",
      "\u001b[1m[updates]\u001b[0m {'model': {'messages': [AIMessage(content='10 + 20 = 30.', additional_kwargs={'refusal': None}, response_metadata={'token_usage': {'completion_tokens': 9, 'prompt_tokens': 147, 'total_tokens': 156, 'completion_tokens_details': {'accepted_prediction_tokens': 0, 'audio_tokens': 0, 'reasoning_tokens': 0, 'rejected_prediction_tokens': 0}, 'prompt_tokens_details': {'audio_tokens': 0, 'cached_tokens': 0}}, 'model_provider': 'openai', 'model_name': 'gpt-4o-mini-2024-07-18', 'system_fingerprint': 'fp_51db84afab', 'id': 'chatcmpl-CSmzhHXQkA9de0NnBgAuyxH90LK6U', 'service_tier': 'default', 'finish_reason': 'stop', 'logprobs': None}, id='lc_run--055d672c-1e87-4473-a339-8c905639f365-0', usage_metadata={'input_tokens': 147, 'output_tokens': 9, 'total_tokens': 156, 'input_token_details': {'audio': 0, 'cache_read': 0}, 'output_token_details': {'audio': 0, 'reasoning': 0}})]}}\n",
      "\u001b[1m[values]\u001b[0m {'messages': [HumanMessage(content='What is 10 + 20?', additional_kwargs={}, response_metadata={}, id='942c992b-de0f-48c7-96e6-0c3e2a9f0145'), AIMessage(content='', additional_kwargs={'refusal': None}, response_metadata={'token_usage': {'completion_tokens': 17, 'prompt_tokens': 122, 'total_tokens': 139, 'completion_tokens_details': {'accepted_prediction_tokens': 0, 'audio_tokens': 0, 'reasoning_tokens': 0, 'rejected_prediction_tokens': 0}, 'prompt_tokens_details': {'audio_tokens': 0, 'cached_tokens': 0}}, 'model_provider': 'openai', 'model_name': 'gpt-4o-mini-2024-07-18', 'system_fingerprint': 'fp_51db84afab', 'id': 'chatcmpl-CSmzgjpoIIQMlKo4ghIksvN69VjOa', 'service_tier': 'default', 'finish_reason': 'tool_calls', 'logprobs': None}, id='lc_run--b6e6fc04-4a39-4c14-85aa-1bc705702750-0', tool_calls=[{'name': 'add', 'args': {'a': 10, 'b': 20}, 'id': 'call_1Efcg32Jgzb6YgYnW3D22TqF', 'type': 'tool_call'}], usage_metadata={'input_tokens': 122, 'output_tokens': 17, 'total_tokens': 139, 'input_token_details': {'audio': 0, 'cache_read': 0}, 'output_token_details': {'audio': 0, 'reasoning': 0}}), ToolMessage(content='30', name='add', id='5b0d547e-87d7-44f0-9a58-a504c8c514c6', tool_call_id='call_1Efcg32Jgzb6YgYnW3D22TqF'), AIMessage(content='10 + 20 = 30.', additional_kwargs={'refusal': None}, response_metadata={'token_usage': {'completion_tokens': 9, 'prompt_tokens': 147, 'total_tokens': 156, 'completion_tokens_details': {'accepted_prediction_tokens': 0, 'audio_tokens': 0, 'reasoning_tokens': 0, 'rejected_prediction_tokens': 0}, 'prompt_tokens_details': {'audio_tokens': 0, 'cached_tokens': 0}}, 'model_provider': 'openai', 'model_name': 'gpt-4o-mini-2024-07-18', 'system_fingerprint': 'fp_51db84afab', 'id': 'chatcmpl-CSmzhHXQkA9de0NnBgAuyxH90LK6U', 'service_tier': 'default', 'finish_reason': 'stop', 'logprobs': None}, id='lc_run--055d672c-1e87-4473-a339-8c905639f365-0', usage_metadata={'input_tokens': 147, 'output_tokens': 9, 'total_tokens': 156, 'input_token_details': {'audio': 0, 'cache_read': 0}, 'output_token_details': {'audio': 0, 'reasoning': 0}})]}\n",
      "10 + 20 = 30.\n"
     ]
    }
   ],
   "source": [
    "\n",
    "\n",
    "result = agent.invoke({\"messages\": [HumanMessage(content=\"What is 10 + 20?\")]})\n",
    "# print(result[\"messages\"][-1])\n",
    "\n",
    "\n",
    "\n",
    "print(result[\"messages\"][-1].content)"
   ]
  },
  {
   "cell_type": "code",
   "execution_count": 5,
   "id": "1cb6190c",
   "metadata": {},
   "outputs": [
    {
     "data": {
      "image/png": "[encoded data removed]",
      "text/plain": [
       "<IPython.core.display.Image object>"
      ]
     },
     "metadata": {},
     "output_type": "display_data"
    }
   ],
   "source": [
    "from IPython.display import Image, display\n",
    "\n",
    "display(Image(agent.get_graph().draw_mermaid_png()))"
   ]
  },
  {
   "cell_type": "markdown",
   "id": "c1359d85",
   "metadata": {},
   "source": [
    "### middleware()"
   ]
  },
  {
   "cell_type": "code",
   "execution_count": null,
   "id": "fb2be902",
   "metadata": {},
   "outputs": [],
   "source": [
    "from langchain.agents.middleware import (\n",
    "    PIIMiddleware,\n",
    "    SummarizationMiddleware,\n",
    "    HumanInTheLoopMiddleware\n",
    ")"
   ]
  },
  {
   "cell_type": "code",
   "execution_count": 20,
   "id": "c5881989",
   "metadata": {},
   "outputs": [],
   "source": [
    "system_prompt = SystemMessage(content=\"You are a helpful assistant that can answer questions only reated to calculator and help with tasks.\")"
   ]
  },
  {
   "cell_type": "code",
   "execution_count": null,
   "id": "116aba80",
   "metadata": {},
   "outputs": [],
   "source": [
    "agent = create_agent(\n",
    "    llm,\n",
    "    tools=[add, subtract, multiply, divide],\n",
    "    system_prompt=system_prompt.content,\n",
    "    debug=True,\n",
    "    middleware=[\n",
    "        # PIIMiddleware: Not strictly necessary for calculator, but good for general safety\n",
    "        # You can customize patterns or remove this if not needed\n",
    "        # PIIMiddleware(\"credit_card\", strategy=\"mask\"),\n",
    "        # PIIMiddleware(\"url\", strategy=\"redact\"),\n",
    "        # PIIMiddleware(\"ip\", strategy=\"hash\"),\n",
    "        \n",
    "        # SummarizationMiddleware: Useful for long calculation sessions\n",
    "        SummarizationMiddleware(\n",
    "            model=llm,\n",
    "            max_tokens_before_summary=800  # Higher threshold since calculator conversations are usually shorter\n",
    "        ),\n",
    "        \n",
    "        # HumanInTheLoopMiddleware: Customized for your divide tool to prevent division by zero\n",
    "        # or handle potentially problematic calculations\n",
    "        HumanInTheLoopMiddleware(\n",
    "            interrupt_on={\n",
    "                \"divide\": {\n",
    "                    \"allowed_decisions\": [\"approve\", \"edit\", \"reject\"],\n",
    "                    \"message\": \"Confirm division operation - check if divisor is zero\"\n",
    "                }\n",
    "            }\n",
    "        ),\n",
    "    ]\n",
    ")"
   ]
  },
  {
   "cell_type": "code",
   "execution_count": 32,
   "id": "13a5e63b",
   "metadata": {},
   "outputs": [
    {
     "name": "stdout",
     "output_type": "stream",
     "text": [
      "\u001b[1m[values]\u001b[0m {'messages': [HumanMessage(content='https://www.google.com/search?q=giv+eme+random+ip+exmaple+&sxsrf=AE3TifM-iUVphzF9Mgs6ZRNRaB1Fjy99Kw%3A1760978686908', additional_kwargs={}, response_metadata={}, id='8d8fbea5-91aa-460b-8949-5a105209cb25')]}\n",
      "\u001b[1m[updates]\u001b[0m {'SummarizationMiddleware.before_model': None}\n",
      "\u001b[1m[updates]\u001b[0m {'model': {'messages': [AIMessage(content=\"I'm unable to browse the internet, but I can help explain what an IP address is or provide examples if you need. Would you like that instead?\", additional_kwargs={'refusal': None}, response_metadata={'token_usage': {'completion_tokens': 31, 'prompt_tokens': 183, 'total_tokens': 214, 'completion_tokens_details': {'accepted_prediction_tokens': 0, 'audio_tokens': 0, 'reasoning_tokens': 0, 'rejected_prediction_tokens': 0}, 'prompt_tokens_details': {'audio_tokens': 0, 'cached_tokens': 0}}, 'model_provider': 'openai', 'model_name': 'gpt-4o-mini-2024-07-18', 'system_fingerprint': 'fp_560af6e559', 'id': 'chatcmpl-CSnS7Gx7BuLThXSREZjdBad9q5VRp', 'service_tier': 'default', 'finish_reason': 'stop', 'logprobs': None}, id='lc_run--22b02f1c-2b11-4c89-b35a-b60c16ce3818-0', usage_metadata={'input_tokens': 183, 'output_tokens': 31, 'total_tokens': 214, 'input_token_details': {'audio': 0, 'cache_read': 0}, 'output_token_details': {'audio': 0, 'reasoning': 0}})]}}\n",
      "\u001b[1m[values]\u001b[0m {'messages': [HumanMessage(content='https://www.google.com/search?q=giv+eme+random+ip+exmaple+&sxsrf=AE3TifM-iUVphzF9Mgs6ZRNRaB1Fjy99Kw%3A1760978686908', additional_kwargs={}, response_metadata={}, id='8d8fbea5-91aa-460b-8949-5a105209cb25'), AIMessage(content=\"I'm unable to browse the internet, but I can help explain what an IP address is or provide examples if you need. Would you like that instead?\", additional_kwargs={'refusal': None}, response_metadata={'token_usage': {'completion_tokens': 31, 'prompt_tokens': 183, 'total_tokens': 214, 'completion_tokens_details': {'accepted_prediction_tokens': 0, 'audio_tokens': 0, 'reasoning_tokens': 0, 'rejected_prediction_tokens': 0}, 'prompt_tokens_details': {'audio_tokens': 0, 'cached_tokens': 0}}, 'model_provider': 'openai', 'model_name': 'gpt-4o-mini-2024-07-18', 'system_fingerprint': 'fp_560af6e559', 'id': 'chatcmpl-CSnS7Gx7BuLThXSREZjdBad9q5VRp', 'service_tier': 'default', 'finish_reason': 'stop', 'logprobs': None}, id='lc_run--22b02f1c-2b11-4c89-b35a-b60c16ce3818-0', usage_metadata={'input_tokens': 183, 'output_tokens': 31, 'total_tokens': 214, 'input_token_details': {'audio': 0, 'cache_read': 0}, 'output_token_details': {'audio': 0, 'reasoning': 0}})]}\n",
      "\u001b[1m[updates]\u001b[0m {'HumanInTheLoopMiddleware.after_model': None}\n",
      "I'm unable to browse the internet, but I can help explain what an IP address is or provide examples if you need. Would you like that instead?\n"
     ]
    }
   ],
   "source": [
    "\n",
    "\n",
    "result = agent.invoke({\"messages\": [HumanMessage(content=\"https://www.google.com/search?q=giv+eme+random+ip+exmaple+&sxsrf=AE3TifM-iUVphzF9Mgs6ZRNRaB1Fjy99Kw%3A1760978686908\")]})\n",
    "print(result[\"messages\"][-1].content)"
   ]
  },
  {
   "cell_type": "code",
   "execution_count": 33,
   "id": "dd736228",
   "metadata": {},
   "outputs": [],
   "source": [
    "# [values] {'messages': [HumanMessage(content='169.254. 255.255', additional_kwargs={}, response_metadata={}, id='bf52ba56-de8f-4336-941b-80e3755d19c5')]}\n",
    "# [updates] {'PIIMiddleware[credit_card].before_model': None}\n",
    "# [updates] {'PIIMiddleware[url].before_model': None}\n",
    "# [updates] {'PIIMiddleware[ip].before_model': None}\n",
    "# [updates] {'SummarizationMiddleware.before_model': None}\n",
    "# [updates] {'model': {'messages': [AIMessage(content=\"It looks like you've provided an IP address. Would you like assistance with a calculation or task involving numbers?\", additional_kwargs={'refusal': None}, response_metadata={'token_usage': {'completion_tokens': 22, 'prompt_tokens': 135, 'total_tokens': 157, 'completion_tokens_details': {'accepted_prediction_tokens': 0, 'audio_tokens': 0, 'reasoning_tokens': 0, 'rejected_prediction_tokens': 0}, 'prompt_tokens_details': {'audio_tokens': 0, 'cached_tokens': 0}}, 'model_provider': 'openai', 'model_name': 'gpt-4o-mini-2024-07-18', 'system_fingerprint': 'fp_560af6e559', 'id': 'chatcmpl-CSnL1dJeLgyHtLGWHBPDietZaIfWB', 'service_tier': 'default', 'finish_reason': 'stop', 'logprobs': None}, id='lc_run--3b6724bf-fd51-4219-9c27-3ef6cab17768-0', usage_metadata={'input_tokens': 135, 'output_tokens': 22, 'total_tokens': 157, 'input_token_details': {'audio': 0, 'cache_read': 0}, 'output_token_details': {'audio': 0, 'reasoning': 0}})]}}\n",
    "# [values] {'messages': [HumanMessage(content='169.254. 255.255', additional_kwargs={}, response_metadata={}, id='bf52ba56-de8f-4336-941b-80e3755d19c5'), AIMessage(content=\"It looks like you've provided an IP address. Would you like assistance with a calculation or task involving numbers?\", additional_kwargs={'refusal': None}, response_metadata={'token_usage': {'completion_tokens': 22, 'prompt_tokens': 135, 'total_tokens': 157, 'completion_tokens_details': {'accepted_prediction_tokens': 0, 'audio_tokens': 0, 'reasoning_tokens': 0, 'rejected_prediction_tokens': 0}, 'prompt_tokens_details': {'audio_tokens': 0, 'cached_tokens': 0}}, 'model_provider': 'openai', 'model_name': 'gpt-4o-mini-2024-07-18', 'system_fingerprint': 'fp_560af6e559', 'id': 'chatcmpl-CSnL1dJeLgyHtLGWHBPDietZaIfWB', 'service_tier': 'default', 'finish_reason': 'stop', 'logprobs': None}, id='lc_run--3b6724bf-fd51-4219-9c27-3ef6cab17768-0', usage_metadata={'input_tokens': 135, 'output_tokens': 22, 'total_tokens': 157, 'input_token_details': {'audio': 0, 'cache_read': 0}, 'output_token_details': {'audio': 0, 'reasoning': 0}})]}\n",
    "# [updates] {'HumanInTheLoopMiddleware.after_model': None}\n",
    "# [updates] {'PIIMiddleware[ip].after_model': None}\n",
    "# [updates] {'PIIMiddleware[url].after_model': None}\n",
    "# [updates] {'PIIMiddleware[credit_card].after_model': None}\n",
    "# It looks like you've provided an IP address. Would you like assistance with a calculation or task involving numbers?\n",
    "\n",
    "\n",
    "\n",
    "# [values] {'messages': [HumanMessage(content='https://www.google.com/search?q=giv+eme+random+ip+exmaple+&sxsrf=AE3TifM-iUVphzF9Mgs6ZRNRaB1Fjy99Kw%3A1760978686908', additional_kwargs={}, response_metadata={}, id='fbba0f2b-3954-4868-ab99-a5ad2dc31b2e')]}\n",
    "# [updates] {'PIIMiddleware[credit_card].before_model': None}\n",
    "# [updates] {'PIIMiddleware[url].before_model': {'messages': [HumanMessage(content='[REDACTED_URL]', additional_kwargs={}, response_metadata={}, id='fbba0f2b-3954-4868-ab99-a5ad2dc31b2e')]}}\n",
    "# [values] {'messages': [HumanMessage(content='[REDACTED_URL]', additional_kwargs={}, response_metadata={}, id='fbba0f2b-3954-4868-ab99-a5ad2dc31b2e')]}\n",
    "# [updates] {'PIIMiddleware[ip].before_model': None}\n",
    "# [updates] {'SummarizationMiddleware.before_model': None}\n",
    "# [updates] {'model': {'messages': [AIMessage(content=\"I'm here to help with any calculations or tasks you may have! Please let me know what you need assistance with.\", additional_kwargs={'refusal': None}, response_metadata={'token_usage': {'completion_tokens': 24, 'prompt_tokens': 134, 'total_tokens': 158, 'completion_tokens_details': {'accepted_prediction_tokens': 0, 'audio_tokens': 0, 'reasoning_tokens': 0, 'rejected_prediction_tokens': 0}, 'prompt_tokens_details': {'audio_tokens': 0, 'cached_tokens': 0}}, 'model_provider': 'openai', 'model_name': 'gpt-4o-mini-2024-07-18', 'system_fingerprint': 'fp_560af6e559', 'id': 'chatcmpl-CSnMH6CFKEotTyLdi1uqV2kYqMclT', 'service_tier': 'default', 'finish_reason': 'stop', 'logprobs': None}, id='lc_run--3ccfdb08-baff-462c-96ce-436047614a87-0', usage_metadata={'input_tokens': 134, 'output_tokens': 24, 'total_tokens': 158, 'input_token_details': {'audio': 0, 'cache_read': 0}, 'output_token_details': {'audio': 0, 'reasoning': 0}})]}}\n",
    "# [values] {'messages': [HumanMessage(content='[REDACTED_URL]', additional_kwargs={}, response_metadata={}, id='fbba0f2b-3954-4868-ab99-a5ad2dc31b2e'), AIMessage(content=\"I'm here to help with any calculations or tasks you may have! Please let me know what you need assistance with.\", additional_kwargs={'refusal': None}, response_metadata={'token_usage': {'completion_tokens': 24, 'prompt_tokens': 134, 'total_tokens': 158, 'completion_tokens_details': {'accepted_prediction_tokens': 0, 'audio_tokens': 0, 'reasoning_tokens': 0, 'rejected_prediction_tokens': 0}, 'prompt_tokens_details': {'audio_tokens': 0, 'cached_tokens': 0}}, 'model_provider': 'openai', 'model_name': 'gpt-4o-mini-2024-07-18', 'system_fingerprint': 'fp_560af6e559', 'id': 'chatcmpl-CSnMH6CFKEotTyLdi1uqV2kYqMclT', 'service_tier': 'default', 'finish_reason': 'stop', 'logprobs': None}, id='lc_run--3ccfdb08-baff-462c-96ce-436047614a87-0', usage_metadata={'input_tokens': 134, 'output_tokens': 24, 'total_tokens': 158, 'input_token_details': {'audio': 0, 'cache_read': 0}, 'output_token_details': {'audio': 0, 'reasoning': 0}})]}\n",
    "# [updates] {'HumanInTheLoopMiddleware.after_model': None}\n",
    "# [updates] {'PIIMiddleware[ip].after_model': None}\n",
    "# [updates] {'PIIMiddleware[url].after_model': None}\n",
    "# [updates] {'PIIMiddleware[credit_card].after_model': None}\n",
    "# I'm here to help with any calculations or tasks you may have! Please let me know what you need assistance with.\n"
   ]
  },
  {
   "cell_type": "code",
   "execution_count": 40,
   "id": "09fd7c8b",
   "metadata": {},
   "outputs": [
    {
     "name": "stdout",
     "output_type": "stream",
     "text": [
      "\u001b[1m[values]\u001b[0m {'messages': [HumanMessage(content='what is 10 devide by 0', additional_kwargs={}, response_metadata={}, id='05ad76d7-b484-45c5-ae2c-6d7d8e1e19b1')]}\n",
      "\u001b[1m[updates]\u001b[0m {'SummarizationMiddleware.before_model': None}\n",
      "\u001b[1m[updates]\u001b[0m {'model': {'messages': [AIMessage(content='Dividing by zero is undefined in mathematics. Therefore, the operation \\\\(10 \\\\div 0\\\\) does not have a valid result.', additional_kwargs={'refusal': None}, response_metadata={'token_usage': {'completion_tokens': 29, 'prompt_tokens': 136, 'total_tokens': 165, 'completion_tokens_details': {'accepted_prediction_tokens': 0, 'audio_tokens': 0, 'reasoning_tokens': 0, 'rejected_prediction_tokens': 0}, 'prompt_tokens_details': {'audio_tokens': 0, 'cached_tokens': 0}}, 'model_provider': 'openai', 'model_name': 'gpt-4o-mini-2024-07-18', 'system_fingerprint': 'fp_560af6e559', 'id': 'chatcmpl-CSnyMSi8W1UpJRpLZnMIBqp8xBtIV', 'service_tier': 'default', 'finish_reason': 'stop', 'logprobs': None}, id='lc_run--23146e4f-38c2-40ab-9cda-f28bd59a260c-0', usage_metadata={'input_tokens': 136, 'output_tokens': 29, 'total_tokens': 165, 'input_token_details': {'audio': 0, 'cache_read': 0}, 'output_token_details': {'audio': 0, 'reasoning': 0}})]}}\n",
      "\u001b[1m[values]\u001b[0m {'messages': [HumanMessage(content='what is 10 devide by 0', additional_kwargs={}, response_metadata={}, id='05ad76d7-b484-45c5-ae2c-6d7d8e1e19b1'), AIMessage(content='Dividing by zero is undefined in mathematics. Therefore, the operation \\\\(10 \\\\div 0\\\\) does not have a valid result.', additional_kwargs={'refusal': None}, response_metadata={'token_usage': {'completion_tokens': 29, 'prompt_tokens': 136, 'total_tokens': 165, 'completion_tokens_details': {'accepted_prediction_tokens': 0, 'audio_tokens': 0, 'reasoning_tokens': 0, 'rejected_prediction_tokens': 0}, 'prompt_tokens_details': {'audio_tokens': 0, 'cached_tokens': 0}}, 'model_provider': 'openai', 'model_name': 'gpt-4o-mini-2024-07-18', 'system_fingerprint': 'fp_560af6e559', 'id': 'chatcmpl-CSnyMSi8W1UpJRpLZnMIBqp8xBtIV', 'service_tier': 'default', 'finish_reason': 'stop', 'logprobs': None}, id='lc_run--23146e4f-38c2-40ab-9cda-f28bd59a260c-0', usage_metadata={'input_tokens': 136, 'output_tokens': 29, 'total_tokens': 165, 'input_token_details': {'audio': 0, 'cache_read': 0}, 'output_token_details': {'audio': 0, 'reasoning': 0}})]}\n",
      "\u001b[1m[updates]\u001b[0m {'HumanInTheLoopMiddleware.after_model': None}\n"
     ]
    },
    {
     "data": {
      "text/plain": [
       "{'messages': [HumanMessage(content='what is 10 devide by 0', additional_kwargs={}, response_metadata={}, id='05ad76d7-b484-45c5-ae2c-6d7d8e1e19b1'),\n",
       "  AIMessage(content='Dividing by zero is undefined in mathematics. Therefore, the operation \\\\(10 \\\\div 0\\\\) does not have a valid result.', additional_kwargs={'refusal': None}, response_metadata={'token_usage': {'completion_tokens': 29, 'prompt_tokens': 136, 'total_tokens': 165, 'completion_tokens_details': {'accepted_prediction_tokens': 0, 'audio_tokens': 0, 'reasoning_tokens': 0, 'rejected_prediction_tokens': 0}, 'prompt_tokens_details': {'audio_tokens': 0, 'cached_tokens': 0}}, 'model_provider': 'openai', 'model_name': 'gpt-4o-mini-2024-07-18', 'system_fingerprint': 'fp_560af6e559', 'id': 'chatcmpl-CSnyMSi8W1UpJRpLZnMIBqp8xBtIV', 'service_tier': 'default', 'finish_reason': 'stop', 'logprobs': None}, id='lc_run--23146e4f-38c2-40ab-9cda-f28bd59a260c-0', usage_metadata={'input_tokens': 136, 'output_tokens': 29, 'total_tokens': 165, 'input_token_details': {'audio': 0, 'cache_read': 0}, 'output_token_details': {'audio': 0, 'reasoning': 0}})]}"
      ]
     },
     "execution_count": 40,
     "metadata": {},
     "output_type": "execute_result"
    }
   ],
   "source": [
    "\n",
    "\n",
    "agent.invoke({\"messages\": [HumanMessage(content=\"what is 10 devide by 0\")]})\n",
    "# print(result[\"messages\"][-1].content)"
   ]
  },
  {
   "cell_type": "code",
   "execution_count": 36,
   "id": "80049be1",
   "metadata": {},
   "outputs": [
    {
     "data": {
      "image/png": "[encoded data removed]",
      "text/plain": [
       "<IPython.core.display.Image object>"
      ]
     },
     "metadata": {},
     "output_type": "display_data"
    }
   ],
   "source": [
    "from IPython.display import Image,  display\n",
    "display(Image(agent.get_graph().draw_mermaid_png()))"
   ]
  },
  {
   "cell_type": "markdown",
   "id": "23ff4674",
   "metadata": {},
   "source": [
    "###  Planning\n"
   ]
  },
  {
   "cell_type": "code",
   "execution_count": 41,
   "id": "64a0ea49",
   "metadata": {},
   "outputs": [],
   "source": [
    "\n",
    "from langchain.agents.middleware import TodoListMiddleware\n",
    "\n",
    "agent = create_agent(\n",
    "    llm,\n",
    "    tools=[add, subtract, multiply, divide],\n",
    "    system_prompt=system_prompt.content,\n",
    "    debug=True,\n",
    "    middleware=[TodoListMiddleware()\n",
    "        # PIIMiddleware: Not strictly necessary for calculator, but good for general safety\n",
    "        # You can customize patterns or remove this if not needed\n",
    "        # PIIMiddleware(\"credit_card\", strategy=\"mask\"),\n",
    "        # PIIMiddleware(\"url\", strategy=\"redact\"),\n",
    "        # PIIMiddleware(\"ip\", strategy=\"hash\"),\n",
    "        \n",
    "        # # SummarizationMiddleware: Useful for long calculation sessions\n",
    "        # SummarizationMiddleware(\n",
    "        #     model=llm,\n",
    "        #     max_tokens_before_summary=800  # Higher threshold since calculator conversations are usually shorter\n",
    "        # ),\n",
    "        \n",
    "        # HumanInTheLoopMiddleware: Customized for your divide tool to prevent division by zero\n",
    "        # or handle potentially problematic calculations\n",
    "        # HumanInTheLoopMiddleware(\n",
    "        #     interrupt_on={\n",
    "        #         \"divide\": {\n",
    "        #             \"allowed_decisions\": [\"approve\", \"edit\", \"reject\"],\n",
    "        #             \"message\": \"Confirm division operation - check if divisor is zero\"\n",
    "        #         }\n",
    "        #     }\n",
    "        # ),\n",
    "    ]\n",
    ")"
   ]
  },
  {
   "cell_type": "code",
   "execution_count": 43,
   "id": "e43c289b",
   "metadata": {},
   "outputs": [
    {
     "name": "stdout",
     "output_type": "stream",
     "text": [
      "\u001b[1m[values]\u001b[0m {'messages': [HumanMessage(content='Help me refactor my codebase', additional_kwargs={}, response_metadata={}, id='50ae8da6-8a25-4fad-a5bb-46de05d36f89')]}\n",
      "\u001b[1m[updates]\u001b[0m {'model': {'messages': [AIMessage(content='Refactoring a codebase can be a complex task, as it often involves several steps such as organizing code structure, improving readability, and eliminating redundancies. To help you effectively, could you please provide more details about your codebase? Specifically:\\n\\n1. What programming language are you using?\\n2. Are there specific areas or files in the codebase that you want to focus on?\\n3. Do you have any particular goals for the refactoring (e.g., improving performance, enhancing readability)?\\n\\nOnce I have this information, I can assist you better!', additional_kwargs={'refusal': None}, response_metadata={'token_usage': {'completion_tokens': 112, 'prompt_tokens': 1203, 'total_tokens': 1315, 'completion_tokens_details': {'accepted_prediction_tokens': 0, 'audio_tokens': 0, 'reasoning_tokens': 0, 'rejected_prediction_tokens': 0}, 'prompt_tokens_details': {'audio_tokens': 0, 'cached_tokens': 0}}, 'model_provider': 'openai', 'model_name': 'gpt-4o-mini-2024-07-18', 'system_fingerprint': 'fp_560af6e559', 'id': 'chatcmpl-CSon2nHGKHRtxEFbg0Ncf2g53USzX', 'service_tier': 'default', 'finish_reason': 'stop', 'logprobs': None}, id='lc_run--5738ce69-8052-47b9-8b19-e87afd36f4a7-0', usage_metadata={'input_tokens': 1203, 'output_tokens': 112, 'total_tokens': 1315, 'input_token_details': {'audio': 0, 'cache_read': 0}, 'output_token_details': {'audio': 0, 'reasoning': 0}})]}}\n",
      "\u001b[1m[values]\u001b[0m {'messages': [HumanMessage(content='Help me refactor my codebase', additional_kwargs={}, response_metadata={}, id='50ae8da6-8a25-4fad-a5bb-46de05d36f89'), AIMessage(content='Refactoring a codebase can be a complex task, as it often involves several steps such as organizing code structure, improving readability, and eliminating redundancies. To help you effectively, could you please provide more details about your codebase? Specifically:\\n\\n1. What programming language are you using?\\n2. Are there specific areas or files in the codebase that you want to focus on?\\n3. Do you have any particular goals for the refactoring (e.g., improving performance, enhancing readability)?\\n\\nOnce I have this information, I can assist you better!', additional_kwargs={'refusal': None}, response_metadata={'token_usage': {'completion_tokens': 112, 'prompt_tokens': 1203, 'total_tokens': 1315, 'completion_tokens_details': {'accepted_prediction_tokens': 0, 'audio_tokens': 0, 'reasoning_tokens': 0, 'rejected_prediction_tokens': 0}, 'prompt_tokens_details': {'audio_tokens': 0, 'cached_tokens': 0}}, 'model_provider': 'openai', 'model_name': 'gpt-4o-mini-2024-07-18', 'system_fingerprint': 'fp_560af6e559', 'id': 'chatcmpl-CSon2nHGKHRtxEFbg0Ncf2g53USzX', 'service_tier': 'default', 'finish_reason': 'stop', 'logprobs': None}, id='lc_run--5738ce69-8052-47b9-8b19-e87afd36f4a7-0', usage_metadata={'input_tokens': 1203, 'output_tokens': 112, 'total_tokens': 1315, 'input_token_details': {'audio': 0, 'cache_read': 0}, 'output_token_details': {'audio': 0, 'reasoning': 0}})]}\n"
     ]
    }
   ],
   "source": [
    "result = agent.invoke({\"messages\": [HumanMessage(content=\"Help me refactor my codebase\")]})\n",
    "# print(result[\"todos\"])  # Array of todo items with status tracking\n",
    "# agent.invoke({\"messages\": [HumanMessage(content=\"what is 10 devide by 0\")]})"
   ]
  },
  {
   "cell_type": "code",
   "execution_count": 49,
   "id": "4a64febb",
   "metadata": {},
   "outputs": [
    {
     "name": "stdout",
     "output_type": "stream",
     "text": [
      "Refactoring a codebase can be a complex task, as it often involves several steps such as organizing code structure, improving readability, and eliminating redundancies. To help you effectively, could you please provide more details about your codebase? Specifically:\n",
      "\n",
      "1. What programming language are you using?\n",
      "2. Are there specific areas or files in the codebase that you want to focus on?\n",
      "3. Do you have any particular goals for the refactoring (e.g., improving performance, enhancing readability)?\n",
      "\n",
      "Once I have this information, I can assist you better!\n"
     ]
    }
   ],
   "source": [
    "print(result[\"messages\"][-1].content)"
   ]
  },
  {
   "cell_type": "code",
   "execution_count": null,
   "id": "ea6f7efe",
   "metadata": {},
   "outputs": [
    {
     "ename": "KeyError",
     "evalue": "'todos'",
     "output_type": "error",
     "traceback": [
      "\u001b[31m---------------------------------------------------------------------------\u001b[39m",
      "\u001b[31mKeyError\u001b[39m                                  Traceback (most recent call last)",
      "\u001b[36mCell\u001b[39m\u001b[36m \u001b[39m\u001b[32mIn[44]\u001b[39m\u001b[32m, line 1\u001b[39m\n\u001b[32m----> \u001b[39m\u001b[32m1\u001b[39m \u001b[38;5;28mprint\u001b[39m(\u001b[43mresult\u001b[49m\u001b[43m[\u001b[49m\u001b[33;43m\"\u001b[39;49m\u001b[33;43mtodos\u001b[39;49m\u001b[33;43m\"\u001b[39;49m\u001b[43m]\u001b[49m)  \u001b[38;5;66;03m# Array of todo items with status tracking\u001b[39;00m\n",
      "\u001b[31mKeyError\u001b[39m: 'todos'"
     ]
    }
   ],
   "source": [
    "\n",
    "print(result[\"todos\"])  # Array of todo items with status tracking\n"
   ]
  },
  {
   "cell_type": "code",
   "execution_count": null,
   "id": "51edeb08",
   "metadata": {},
   "outputs": [],
   "source": []
  }
 ],
 "metadata": {
  "kernelspec": {
   "display_name": ".venv",
   "language": "python",
   "name": "python3"
  },
  "language_info": {
   "codemirror_mode": {
    "name": "ipython",
    "version": 3
   },
   "file_extension": ".py",
   "mimetype": "text/x-python",
   "name": "python",
   "nbconvert_exporter": "python",
   "pygments_lexer": "ipython3",
   "version": "3.11.11"
  }
 },
 "nbformat": 4,
 "nbformat_minor": 5
}
